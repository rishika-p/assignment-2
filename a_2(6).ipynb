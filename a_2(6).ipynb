{
  "nbformat": 4,
  "nbformat_minor": 0,
  "metadata": {
    "colab": {
      "name": "a-2(6)",
      "provenance": [],
      "authorship_tag": "ABX9TyPDvtBNd4QvVlSf1oS7pMfw",
      "include_colab_link": true
    },
    "kernelspec": {
      "name": "python3",
      "display_name": "Python 3"
    }
  },
  "cells": [
    {
      "cell_type": "markdown",
      "metadata": {
        "id": "view-in-github",
        "colab_type": "text"
      },
      "source": [
        "<a href=\"https://colab.research.google.com/github/rishika-p/assignment-2/blob/master/a_2(6).ipynb\" target=\"_parent\"><img src=\"https://colab.research.google.com/assets/colab-badge.svg\" alt=\"Open In Colab\"/></a>"
      ]
    },
    {
      "cell_type": "markdown",
      "metadata": {
        "id": "zqIt6Oap5H6p",
        "colab_type": "text"
      },
      "source": [
        "6.  Tax CalculatorAsk  the  user  for  their  monthly  salary.  Calculate  whether  they  have  to  pay tax and if so, how much is that amount .Print the result"
      ]
    },
    {
      "cell_type": "code",
      "metadata": {
        "id": "Lt-snb605Ioh",
        "colab_type": "code",
        "colab": {
          "base_uri": "https://localhost:8080/",
          "height": 50
        },
        "outputId": "0fdeeee8-c8ba-41f6-fb75-c673f216d126"
      },
      "source": [
        "s=int(input(\"Enter salary : \"))\n",
        "if s<=250000:\n",
        "  print(\"no tax to be paid\")\n",
        "elif s>250000 and s<=500000:\n",
        "  p=0.05*s\n",
        "  print(p)\n",
        "elif s>500000 and s<=750000:\n",
        "  p=0.1*s\n",
        "  print(p)\n",
        "elif s>750000 and s<=1000000:\n",
        "  p=0.15*s\n",
        "  print(p)\n",
        "elif s>1000000 and s<=1250000:\n",
        "  p=0.2*s\n",
        "  print(p)\n",
        "elif s>1250000 and s<=1500000:\n",
        "  p=0.25*s\n",
        "  print(p)\n",
        "else:\n",
        "  p=0.3*s\n",
        "  print(p)"
      ],
      "execution_count": 10,
      "outputs": [
        {
          "output_type": "stream",
          "text": [
            "Enter salary : 400000\n",
            "20000.0\n"
          ],
          "name": "stdout"
        }
      ]
    }
  ]
}