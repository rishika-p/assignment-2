{
  "nbformat": 4,
  "nbformat_minor": 0,
  "metadata": {
    "colab": {
      "name": "a-2(5)",
      "provenance": [],
      "authorship_tag": "ABX9TyNmoGxGhKYSdwAkxhINLH5+",
      "include_colab_link": true
    },
    "kernelspec": {
      "name": "python3",
      "display_name": "Python 3"
    }
  },
  "cells": [
    {
      "cell_type": "markdown",
      "metadata": {
        "id": "view-in-github",
        "colab_type": "text"
      },
      "source": [
        "<a href=\"https://colab.research.google.com/github/rishika-p/assignment-2/blob/master/a_2(5).ipynb\" target=\"_parent\"><img src=\"https://colab.research.google.com/assets/colab-badge.svg\" alt=\"Open In Colab\"/></a>"
      ]
    },
    {
      "cell_type": "markdown",
      "metadata": {
        "id": "xYKsOI_TY4Ua",
        "colab_type": "text"
      },
      "source": [
        "5.  Unique Sort problem Take  a  string  as  input  that  accepts  a  comma  separated  sequence  of  words as input and prints the unique words in sorted form (alphanumerically).*Input*: orange, white, red, cyan, green, magenta, cyan, pink, white....*Output*: cyan, green, magenta, orange, pink, red, white\n"
      ]
    },
    {
      "cell_type": "code",
      "metadata": {
        "id": "w-yeyzMsaG1M",
        "colab_type": "code",
        "colab": {
          "base_uri": "https://localhost:8080/",
          "height": 50
        },
        "outputId": "b36a1881-d63a-45f4-ecc2-d758c684797e"
      },
      "source": [
        "items = input(\"Input comma separated sequence of words : \")\n",
        "words = [word for word in items.split(\",\")]\n",
        "print(\",\".join(sorted(list(set(words)))))"
      ],
      "execution_count": 7,
      "outputs": [
        {
          "output_type": "stream",
          "text": [
            "Input comma separated sequence of words : orange,white,red,cyan,green,magneta,cyan,pink,white\n",
            "cyan,green,magneta,orange,pink,red,white\n"
          ],
          "name": "stdout"
        }
      ]
    },
    {
      "cell_type": "code",
      "metadata": {
        "id": "AOmPtFydY_aT",
        "colab_type": "code",
        "colab": {
          "base_uri": "https://localhost:8080/",
          "height": 50
        },
        "outputId": "f0ddd82b-9a98-49a3-93f2-244461b3e472"
      },
      "source": [
        "a=input(\"Enter sequence of words : \")\n",
        "words=[word for word in a.split(\",\")]\n",
        "print(\",\".join(sorted(list(set(words)))))"
      ],
      "execution_count": 4,
      "outputs": [
        {
          "output_type": "stream",
          "text": [
            "Enter sequence of words : ab,bc,ba,ab\n",
            "ab,ba,bc\n"
          ],
          "name": "stdout"
        }
      ]
    }
  ]
}