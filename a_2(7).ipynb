{
  "nbformat": 4,
  "nbformat_minor": 0,
  "metadata": {
    "colab": {
      "name": "a-2(7)",
      "provenance": [],
      "authorship_tag": "ABX9TyMu74duBj9xhDypajtkixxX",
      "include_colab_link": true
    },
    "kernelspec": {
      "name": "python3",
      "display_name": "Python 3"
    }
  },
  "cells": [
    {
      "cell_type": "markdown",
      "metadata": {
        "id": "view-in-github",
        "colab_type": "text"
      },
      "source": [
        "<a href=\"https://colab.research.google.com/github/rishika-p/assignment-2/blob/master/a_2(7).ipynb\" target=\"_parent\"><img src=\"https://colab.research.google.com/assets/colab-badge.svg\" alt=\"Open In Colab\"/></a>"
      ]
    },
    {
      "cell_type": "code",
      "metadata": {
        "id": "GQ8DI2SOky7_",
        "colab_type": "code",
        "colab": {}
      },
      "source": [
        ""
      ],
      "execution_count": null,
      "outputs": []
    },
    {
      "cell_type": "markdown",
      "metadata": {
        "id": "YlDHHVZ-qxpt",
        "colab_type": "text"
      },
      "source": [
        "7.  Take a list of integers as an argument, and converts it into a single integer (return the integer).*Input*: [11, 33, 50]*Output*: 113350\n"
      ]
    },
    {
      "cell_type": "code",
      "metadata": {
        "id": "Wnl2GG72qyrx",
        "colab_type": "code",
        "colab": {
          "base_uri": "https://localhost:8080/",
          "height": 34
        },
        "outputId": "1aa6d923-c2a3-4d0a-bc82-4bce69f49978"
      },
      "source": [
        "list=[11,33,50]\n",
        "for i in list:\n",
        "  print(i,end = \"\")"
      ],
      "execution_count": 15,
      "outputs": [
        {
          "output_type": "stream",
          "text": [
            "113350"
          ],
          "name": "stdout"
        }
      ]
    }
  ]
}