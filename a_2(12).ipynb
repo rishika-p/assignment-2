{
  "nbformat": 4,
  "nbformat_minor": 0,
  "metadata": {
    "colab": {
      "name": "a-2(12)",
      "provenance": [],
      "authorship_tag": "ABX9TyMbBNmRdJPw4SkK0Orimdoa",
      "include_colab_link": true
    },
    "kernelspec": {
      "name": "python3",
      "display_name": "Python 3"
    }
  },
  "cells": [
    {
      "cell_type": "markdown",
      "metadata": {
        "id": "view-in-github",
        "colab_type": "text"
      },
      "source": [
        "<a href=\"https://colab.research.google.com/github/rishika-p/assignment-2/blob/master/a_2(12).ipynb\" target=\"_parent\"><img src=\"https://colab.research.google.com/assets/colab-badge.svg\" alt=\"Open In Colab\"/></a>"
      ]
    },
    {
      "cell_type": "markdown",
      "metadata": {
        "id": "v_0azqzQufsx",
        "colab_type": "text"
      },
      "source": [
        "12.Compute given Num_list =  [5, 6,8 ,34,89,1] to get desired outputOutput: Out_list=[11,14,42,123,90]"
      ]
    },
    {
      "cell_type": "code",
      "metadata": {
        "id": "4z9JJtQuyktQ",
        "colab_type": "code",
        "colab": {
          "base_uri": "https://localhost:8080/",
          "height": 34
        },
        "outputId": "19ab4ce1-4651-4c70-8f8b-ba6627af5868"
      },
      "source": [
        "t=[5,6,8,34,89,1]\n",
        "p=list(t[i]+t[i+1] for i in range(len(t)-1))\n",
        "print(\"out_list=\",p)"
      ],
      "execution_count": 18,
      "outputs": [
        {
          "output_type": "stream",
          "text": [
            "out_list= [11, 14, 42, 123, 90]\n"
          ],
          "name": "stdout"
        }
      ]
    }
  ]
}