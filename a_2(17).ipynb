{
  "nbformat": 4,
  "nbformat_minor": 0,
  "metadata": {
    "colab": {
      "name": "a-2(17)",
      "provenance": [],
      "authorship_tag": "ABX9TyMRY1QNsN55Uggph9mi3k1E",
      "include_colab_link": true
    },
    "kernelspec": {
      "name": "python3",
      "display_name": "Python 3"
    }
  },
  "cells": [
    {
      "cell_type": "markdown",
      "metadata": {
        "id": "view-in-github",
        "colab_type": "text"
      },
      "source": [
        "<a href=\"https://colab.research.google.com/github/rishika-p/assignment-2/blob/master/a_2(17).ipynb\" target=\"_parent\"><img src=\"https://colab.research.google.com/assets/colab-badge.svg\" alt=\"Open In Colab\"/></a>"
      ]
    },
    {
      "cell_type": "markdown",
      "metadata": {
        "id": "JReFeHEVGA9T",
        "colab_type": "text"
      },
      "source": [
        "17.  POUR1 - Pouring waterGiven two vessels, one of which can accommodate a litres of water and the other - b litres   of   water,   determine   the   number   of   steps   required   to   obtain exactly c litres of water in one of the vessels.At the beginning both vessels are empty. The following operations are counted as 'steps':emptying a vessel,filling a vessel,pouring water from one vessel to the other, without spilling, until one of the vessels is either full or empty.InputAn integer t, 1<=t<=100, denoting the number of testcases , followed by t sets of input  data,  each  consisting  of  three  positive  integers a,  b,  c,  not  larger  than 40000, given in separate lines.OutputFor each set of input data, output the minimum number of steps required to obtain c litres, or -1 if this is impossible.\n",
        "ExampleSample input:2,5,2,3,2,3,4Sample output:2-1"
      ]
    },
    {
      "cell_type": "code",
      "metadata": {
        "id": "89xXAJ1Mn7mU",
        "colab_type": "code",
        "colab": {
          "base_uri": "https://localhost:8080/",
          "height": 185
        },
        "outputId": "ba3e627c-9f4c-42f4-e97c-64330a738fe3"
      },
      "source": [
        "def gcd(n, m):\n",
        "  if m==0:\n",
        "    return n \n",
        "  return gcd(m, n%m)\n",
        "def for_steps(to_jug_cap, from_jug_cap, d):\n",
        "  from_jug = from_jug_cap\n",
        "  to_jug  = 0\n",
        "  count = 1\n",
        "  while ((from_jug != d) and (to_jug != d)):\n",
        "    x = min(from_jug, to_jug_cap - to_jug)\n",
        "    to_jug = to_jug + x\n",
        "    from_jug = from_jug - x\n",
        "    count =  count + 1\n",
        "    if ((from_jug == d) or (to_jug == d)):\n",
        "      break\n",
        "    if from_jug == 0:\n",
        "      from_jug = from_jug_cap\n",
        "      count =  count + 1\n",
        "    if to_jug == to_jug_cap:\n",
        "      to_jug, count = 0, count+1\n",
        "  return count\n",
        "def min_steps(n, m, d):\n",
        "  if m> n:\n",
        "    n,m = m,n\n",
        "  if (n<d) and (m<d):\n",
        "    return -1\n",
        "  elif (d%(gcd(n,m))) is not 0:\n",
        "    return -1\n",
        "  else:\n",
        "    return (min(for_steps(m, n, d), for_steps(n, m, d)))\n",
        "t = int(input(\"select number of test cases : \"))\n",
        "threshold = 40001\n",
        "out_list = []\n",
        "if(t>=1)and(t<=100):\n",
        "  for i in range(t):\n",
        "    n,m,d = (int(input()) for _ in range(3))\n",
        "    if (n>0)and(m>0)and(d>0):\n",
        "      if ((n<threshold)and(m<threshold)and(d<threshold)):\n",
        "        out_list.append(min_steps(n, m, d))\n",
        "      else:\n",
        "        print('Given n,m,d has value greater than 40000')\n",
        "        out_list.append('error')\n",
        "    else:\n",
        "      print('Negative Input Found')\n",
        "      out_list.append('error')\n",
        "print(\"OUTPUT: \")\n",
        "for j in out_list:\n",
        "  print(j)\n",
        "\n"
      ],
      "execution_count": 1,
      "outputs": [
        {
          "output_type": "stream",
          "text": [
            "select number of test cases : 2\n",
            "5\n",
            "2\n",
            "3\n",
            "2\n",
            "3\n",
            "4\n",
            "OUTPUT: \n",
            "2\n",
            "-1\n"
          ],
          "name": "stdout"
        }
      ]
    }
  ]
}