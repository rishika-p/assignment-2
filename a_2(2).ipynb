{
  "nbformat": 4,
  "nbformat_minor": 0,
  "metadata": {
    "colab": {
      "name": "a-2(2)",
      "provenance": [],
      "authorship_tag": "ABX9TyNUMVesgUHYa9ZVw+swZfn7",
      "include_colab_link": true
    },
    "kernelspec": {
      "name": "python3",
      "display_name": "Python 3"
    }
  },
  "cells": [
    {
      "cell_type": "markdown",
      "metadata": {
        "id": "view-in-github",
        "colab_type": "text"
      },
      "source": [
        "<a href=\"https://colab.research.google.com/github/rishika-p/assignment-2/blob/master/a_2(2).ipynb\" target=\"_parent\"><img src=\"https://colab.research.google.com/assets/colab-badge.svg\" alt=\"Open In Colab\"/></a>"
      ]
    },
    {
      "cell_type": "markdown",
      "metadata": {
        "id": "DJPclRZVa9T9",
        "colab_type": "text"
      },
      "source": [
        "2.  Take a string from end user and check if the value is palindrome or not"
      ]
    },
    {
      "cell_type": "code",
      "metadata": {
        "id": "T2gJk5RAewsp",
        "colab_type": "code",
        "colab": {
          "base_uri": "https://localhost:8080/",
          "height": 50
        },
        "outputId": "1a2e7294-2a2e-46cd-d276-ed54cb59dbcc"
      },
      "source": [
        "word=input(\"Enter a string : \")\n",
        "word[::-1]\n",
        "if word==word[::-1]:\n",
        "  print(word,\"is palindrome\")\n",
        "else:\n",
        "  print(word,\"is not palindrome\")"
      ],
      "execution_count": 4,
      "outputs": [
        {
          "output_type": "stream",
          "text": [
            "Enter a string : abcdcba\n",
            "abcdcba is palindrome\n"
          ],
          "name": "stdout"
        }
      ]
    }
  ]
}