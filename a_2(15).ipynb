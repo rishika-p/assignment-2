{
  "nbformat": 4,
  "nbformat_minor": 0,
  "metadata": {
    "colab": {
      "name": "a-2(15)",
      "provenance": [],
      "authorship_tag": "ABX9TyMkM1lxTTD6WPHzPvkMG2b7",
      "include_colab_link": true
    },
    "kernelspec": {
      "name": "python3",
      "display_name": "Python 3"
    }
  },
  "cells": [
    {
      "cell_type": "markdown",
      "metadata": {
        "id": "view-in-github",
        "colab_type": "text"
      },
      "source": [
        "<a href=\"https://colab.research.google.com/github/rishika-p/assignment-2/blob/master/a_2(15).ipynb\" target=\"_parent\"><img src=\"https://colab.research.google.com/assets/colab-badge.svg\" alt=\"Open In Colab\"/></a>"
      ]
    },
    {
      "cell_type": "markdown",
      "metadata": {
        "id": "ll9KRAeXh7gK",
        "colab_type": "text"
      },
      "source": [
        "15.Write a program that finds the longest palindromic substring of a given string"
      ]
    },
    {
      "cell_type": "code",
      "metadata": {
        "id": "GuKe83dxh7v0",
        "colab_type": "code",
        "colab": {
          "base_uri": "https://localhost:8080/",
          "height": 50
        },
        "outputId": "685f3d40-2385-4e53-c06c-7e7b5293b2ca"
      },
      "source": [
        "def check_palindrome(str):\n",
        "  reversed_string = str[::-1]                                                                      \n",
        "  status = True\n",
        "  if(str!=reversed_string):\n",
        "    status = False\n",
        "  return status\n",
        "str = input(\"Enter a string: \")\n",
        "n = len(str)\n",
        "length = 0\n",
        "if(check_palindrome(str)):\n",
        "  print(\"Longest Palindrome = \",str)\n",
        "else:\n",
        "  for i in range(n):\n",
        "    for j in reversed(range(n)):\n",
        "      if(j>=i):\n",
        "        check = check_palindrome(str[i:j+1])\n",
        "        if (check) and (length < len(str[i:j+1])):\n",
        "          length = len(str[i:j+1])\n",
        "          longest = str[i:j+1]\n",
        "  print(\"Longest Palindrome = \",longest)\n"
      ],
      "execution_count": 32,
      "outputs": [
        {
          "output_type": "stream",
          "text": [
            "Enter a string: apabbba\n",
            "Longest Palindrome =  abbba\n"
          ],
          "name": "stdout"
        }
      ]
    }
  ]
}