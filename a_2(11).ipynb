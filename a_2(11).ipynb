{
  "nbformat": 4,
  "nbformat_minor": 0,
  "metadata": {
    "colab": {
      "name": "a-2(11)",
      "provenance": [],
      "authorship_tag": "ABX9TyMlxElPrp3IydLJF4MhkN/X",
      "include_colab_link": true
    },
    "kernelspec": {
      "name": "python3",
      "display_name": "Python 3"
    }
  },
  "cells": [
    {
      "cell_type": "markdown",
      "metadata": {
        "id": "view-in-github",
        "colab_type": "text"
      },
      "source": [
        "<a href=\"https://colab.research.google.com/github/rishika-p/assignment-2/blob/master/a_2(11).ipynb\" target=\"_parent\"><img src=\"https://colab.research.google.com/assets/colab-badge.svg\" alt=\"Open In Colab\"/></a>"
      ]
    },
    {
      "cell_type": "code",
      "metadata": {
        "id": "W8o3buHrhS0c",
        "colab_type": "code",
        "colab": {}
      },
      "source": [
        ""
      ],
      "execution_count": 6,
      "outputs": []
    },
    {
      "cell_type": "markdown",
      "metadata": {
        "id": "1hkupyLmrHC1",
        "colab_type": "text"
      },
      "source": [
        "11.Compute product of a list of numbers [45 ,3,2,89,72,1,10,7]Output: 121111200"
      ]
    },
    {
      "cell_type": "code",
      "metadata": {
        "id": "04Ubv3NVrHfJ",
        "colab_type": "code",
        "colab": {
          "base_uri": "https://localhost:8080/",
          "height": 34
        },
        "outputId": "8baa2206-cd2a-405c-b98b-1d2c34c0b667"
      },
      "source": [
        "def multiply(numbers):\n",
        "  total = 1\n",
        "  for x in numbers:\n",
        "    total *= x\n",
        "  return total\n",
        "print(multiply((45,3,2,89,72,1,10,7)))"
      ],
      "execution_count": 7,
      "outputs": [
        {
          "output_type": "stream",
          "text": [
            "121111200\n"
          ],
          "name": "stdout"
        }
      ]
    }
  ]
}