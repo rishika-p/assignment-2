{
  "nbformat": 4,
  "nbformat_minor": 0,
  "metadata": {
    "colab": {
      "name": "a-2(8)",
      "provenance": [],
      "authorship_tag": "ABX9TyOZQ1AdR3Z+Jx43URl2w1cU",
      "include_colab_link": true
    },
    "kernelspec": {
      "name": "python3",
      "display_name": "Python 3"
    }
  },
  "cells": [
    {
      "cell_type": "markdown",
      "metadata": {
        "id": "view-in-github",
        "colab_type": "text"
      },
      "source": [
        "<a href=\"https://colab.research.google.com/github/rishika-p/assignment-2/blob/master/a_2(8).ipynb\" target=\"_parent\"><img src=\"https://colab.research.google.com/assets/colab-badge.svg\" alt=\"Open In Colab\"/></a>"
      ]
    },
    {
      "cell_type": "code",
      "metadata": {
        "id": "7Rn_IePB8E7V",
        "colab_type": "code",
        "colab": {}
      },
      "source": [
        ""
      ],
      "execution_count": null,
      "outputs": []
    },
    {
      "cell_type": "markdown",
      "metadata": {
        "id": "WmAdKVOb8Ft3",
        "colab_type": "text"
      },
      "source": [
        "8.UNITS OF TIME   :Create  a  program  that  reads  duration  from  the  user  as  a  number  of  days, hours,  minutes,  and  seconds.  Compute  and  display  the  total  number  of seconds represented by this duration. "
      ]
    },
    {
      "cell_type": "code",
      "metadata": {
        "id": "ScCSKuPT8GJZ",
        "colab_type": "code",
        "colab": {
          "base_uri": "https://localhost:8080/",
          "height": 101
        },
        "outputId": "15e72777-6c02-4c50-af41-159cf4d09276"
      },
      "source": [
        "SECONDS_PER_MINUTE= 60\n",
        "SECONDS_PER_HOUR= 3600\n",
        "SECONDS_PER_DAY= 86400\n",
        "d=int(input(\"Enter number of Days: \"))\n",
        "hrs=int(input(\"Enter number of Hours: \"))\n",
        "min=int(input(\"Enter number of Minutes: \"))\n",
        "sec=int(input(\"Enter number of Seconds: \"))\n",
        "total_seconds=d*SECONDS_PER_DAY\n",
        "total_seconds=total_seconds+( hrs * SECONDS_PER_HOUR)\n",
        "total_seconds=total_seconds+( min * SECONDS_PER_MINUTE)\n",
        "total_seconds=total_seconds+sec\n",
        "print(\"Total number of seconds: \",\"%d\"%(total_seconds))"
      ],
      "execution_count": 2,
      "outputs": [
        {
          "output_type": "stream",
          "text": [
            "Enter number of Days: 2\n",
            "Enter number of Hours: 24\n",
            "Enter number of Minutes: 6\n",
            "Enter number of Seconds: 25\n",
            "Total number of seconds:  259585\n"
          ],
          "name": "stdout"
        }
      ]
    }
  ]
}