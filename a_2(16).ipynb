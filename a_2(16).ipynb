{
  "nbformat": 4,
  "nbformat_minor": 0,
  "metadata": {
    "colab": {
      "name": "a-2(16)",
      "provenance": [],
      "authorship_tag": "ABX9TyMWLHlNI7poZxS47lTwuxVY",
      "include_colab_link": true
    },
    "kernelspec": {
      "name": "python3",
      "display_name": "Python 3"
    }
  },
  "cells": [
    {
      "cell_type": "markdown",
      "metadata": {
        "id": "view-in-github",
        "colab_type": "text"
      },
      "source": [
        "<a href=\"https://colab.research.google.com/github/rishika-p/assignment-2/blob/master/a_2(16).ipynb\" target=\"_parent\"><img src=\"https://colab.research.google.com/assets/colab-badge.svg\" alt=\"Open In Colab\"/></a>"
      ]
    },
    {
      "cell_type": "markdown",
      "metadata": {
        "id": "qZUs9QmiCz2i",
        "colab_type": "text"
      },
      "source": [
        "16. Substring Check (Bug Funny)Given two binary strings, A (of length 10) and B (of length 5), output 1 if B is a substring of A and 0 otherwise.First two lines of input:1010110010          10110 ,,,         1110111011           10011,,,First two lines of output:10"
      ]
    },
    {
      "cell_type": "code",
      "metadata": {
        "id": "EKcVW-yIC0Hv",
        "colab_type": "code",
        "colab": {
          "base_uri": "https://localhost:8080/",
          "height": 118
        },
        "outputId": "74fcf2c6-21de-4bb3-a654-d25461412800"
      },
      "source": [
        "t=int(input(\"Enter number of testcases: \"))\n",
        "out_list = []\n",
        "for i in range(t):\n",
        "  A,B = (str(input()).split())\n",
        "  val = 0\n",
        "  for i in range(len(A)):\n",
        "    for j in reversed(range(len(A))):\n",
        "      if(i<=j):\n",
        "        if (A[i:j+1]) == B:\n",
        "          val = 1\n",
        "  if val == 1:\n",
        "    out_list.append(1)\n",
        "  else:\n",
        "    out_list.append(0)\n",
        "print(\"output: \")\n",
        "for x in out_list:\n",
        "  print(x)\n"
      ],
      "execution_count": 7,
      "outputs": [
        {
          "output_type": "stream",
          "text": [
            "Enter number of testcases: 2\n",
            "1010110010    10110\n",
            "1110111011     10011\n",
            "output: \n",
            "1\n",
            "0\n"
          ],
          "name": "stdout"
        }
      ]
    }
  ]
}