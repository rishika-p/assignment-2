{
  "nbformat": 4,
  "nbformat_minor": 0,
  "metadata": {
    "colab": {
      "name": "a-2(9)",
      "provenance": [],
      "authorship_tag": "ABX9TyM4RbV0c8he6FYqLHmC57my",
      "include_colab_link": true
    },
    "kernelspec": {
      "name": "python3",
      "display_name": "Python 3"
    }
  },
  "cells": [
    {
      "cell_type": "markdown",
      "metadata": {
        "id": "view-in-github",
        "colab_type": "text"
      },
      "source": [
        "<a href=\"https://colab.research.google.com/github/rishika-p/assignment-2/blob/master/a_2(9).ipynb\" target=\"_parent\"><img src=\"https://colab.research.google.com/assets/colab-badge.svg\" alt=\"Open In Colab\"/></a>"
      ]
    },
    {
      "cell_type": "markdown",
      "metadata": {
        "id": "0TFufOFCbnS0",
        "colab_type": "text"
      },
      "source": [
        "9.  Sort 3 IntegersGiven  three  integers  (given  through  user  input),  sort  the  numbers  using |min| and  |max| functions."
      ]
    },
    {
      "cell_type": "code",
      "metadata": {
        "id": "-gz9pkhkeDgq",
        "colab_type": "code",
        "colab": {
          "base_uri": "https://localhost:8080/",
          "height": 84
        },
        "outputId": "23933c73-15a1-4e25-8e63-f14aec45686e"
      },
      "source": [
        "x=int(input(\"enter first number: \"))\n",
        "y=int(input(\"enter second number: \"))\n",
        "z=int(input(\"enter third number: \"))\n",
        "p=min(x, y, z)\n",
        "r=max(x, y, z)\n",
        "q=(x + y + z)-p-r\n",
        "print(\"Numbers in sorted order: \",p,q,r)\n"
      ],
      "execution_count": 11,
      "outputs": [
        {
          "output_type": "stream",
          "text": [
            "enter first number: 6\n",
            "enter second number: 0\n",
            "enter third number: 8\n",
            "Numbers in sorted order:  0 6 8\n"
          ],
          "name": "stdout"
        }
      ]
    }
  ]
}