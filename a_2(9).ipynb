{
  "nbformat": 4,
  "nbformat_minor": 0,
  "metadata": {
    "colab": {
      "name": "a-2(9)",
      "provenance": [],
      "authorship_tag": "ABX9TyNhxL8pkYF1suDaFZX0CQRC",
      "include_colab_link": true
    },
    "kernelspec": {
      "name": "python3",
      "display_name": "Python 3"
    }
  },
  "cells": [
    {
      "cell_type": "markdown",
      "metadata": {
        "id": "view-in-github",
        "colab_type": "text"
      },
      "source": [
        "<a href=\"https://colab.research.google.com/github/rishika-p/assignment-2/blob/master/a_2(9).ipynb\" target=\"_parent\"><img src=\"https://colab.research.google.com/assets/colab-badge.svg\" alt=\"Open In Colab\"/></a>"
      ]
    },
    {
      "cell_type": "markdown",
      "metadata": {
        "id": "0TFufOFCbnS0",
        "colab_type": "text"
      },
      "source": [
        "9.  Sort 3 IntegersGiven  three  integers  (given  through  user  input),  sort  the  numbers  using |min| and  |max| functions."
      ]
    },
    {
      "cell_type": "code",
      "metadata": {
        "id": "HXV6u09vImd8",
        "colab_type": "code",
        "colab": {
          "base_uri": "https://localhost:8080/",
          "height": 84
        },
        "outputId": "94570630-2f50-4499-8b63-86f724d519d3"
      },
      "source": [
        "x=int(input(\"enter first number: \"))\n",
        "y=int(input(\"enter second number: \"))\n",
        "z=int(input(\"enter third number: \"))\n",
        "\n",
        "if(x!=min(x,y,z) and x!=max(x,y,z)):\n",
        "    mid = x\n",
        "elif(y!=min(x,y,z) and y!=max(x,y,z)):\n",
        "    mid = y\n",
        "else:\n",
        "    mid = z    \n",
        "print(min(x,y,z),mid,max(x,y,z))"
      ],
      "execution_count": 5,
      "outputs": [
        {
          "output_type": "stream",
          "text": [
            "enter first number: 33\n",
            "enter second number: 0\n",
            "enter third number: 99\n",
            "0 33 99\n"
          ],
          "name": "stdout"
        }
      ]
    }
  ]
}