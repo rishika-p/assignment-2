{
  "nbformat": 4,
  "nbformat_minor": 0,
  "metadata": {
    "colab": {
      "name": "a-2(1)",
      "provenance": [],
      "authorship_tag": "ABX9TyN1OOY8cvMH+vPAn1ui9uBk",
      "include_colab_link": true
    },
    "kernelspec": {
      "name": "python3",
      "display_name": "Python 3"
    }
  },
  "cells": [
    {
      "cell_type": "markdown",
      "metadata": {
        "id": "view-in-github",
        "colab_type": "text"
      },
      "source": [
        "<a href=\"https://colab.research.google.com/github/rishika-p/assignment-2/blob/master/a_2(1).ipynb\" target=\"_parent\"><img src=\"https://colab.research.google.com/assets/colab-badge.svg\" alt=\"Open In Colab\"/></a>"
      ]
    },
    {
      "cell_type": "code",
      "metadata": {
        "id": "3Lg8K6t_fOWO",
        "colab_type": "code",
        "colab": {
          "base_uri": "https://localhost:8080/",
          "height": 84
        },
        "outputId": "b31e677c-4060-4c60-cbf5-16654946a344"
      },
      "source": [
        "a=int(input(\"Enter first side of triangle : \"))\n",
        "b=int(input(\"Enter second side of triangle : \"))\n",
        "c=int(input(\"Enter third side of triangle : \"))\n",
        "if(a+b>c):\n",
        "  s=(a+b+c)/2\n",
        "  area=(s*(s-a)*(s-b)*(s-c))**1/2\n",
        "  print(\"area = \",area)\n",
        "else:\n",
        "  print(\"triangle is not possible\")"
      ],
      "execution_count": 1,
      "outputs": [
        {
          "output_type": "stream",
          "text": [
            "Enter first side of triangle : 10\n",
            "Enter second side of triangle : 20\n",
            "Enter third side of triangle : 25\n",
            "area =  4511.71875\n"
          ],
          "name": "stdout"
        }
      ]
    }
  ]
}