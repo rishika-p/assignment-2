{
  "nbformat": 4,
  "nbformat_minor": 0,
  "metadata": {
    "colab": {
      "name": "a-2(3)",
      "provenance": [],
      "authorship_tag": "ABX9TyOkWqOJgwsNuqB2qg/k/OJ1",
      "include_colab_link": true
    },
    "kernelspec": {
      "name": "python3",
      "display_name": "Python 3"
    }
  },
  "cells": [
    {
      "cell_type": "markdown",
      "metadata": {
        "id": "view-in-github",
        "colab_type": "text"
      },
      "source": [
        "<a href=\"https://colab.research.google.com/github/rishika-p/assignment-2/blob/master/a_2(3).ipynb\" target=\"_parent\"><img src=\"https://colab.research.google.com/assets/colab-badge.svg\" alt=\"Open In Colab\"/></a>"
      ]
    },
    {
      "cell_type": "code",
      "metadata": {
        "id": "tLqxHrdEe-7L",
        "colab_type": "code",
        "colab": {}
      },
      "source": [
        ""
      ],
      "execution_count": null,
      "outputs": []
    },
    {
      "cell_type": "markdown",
      "metadata": {
        "id": "UdxCtr1TfCq0",
        "colab_type": "text"
      },
      "source": [
        "3.  Write a program that reads a year from the user and displays a message Indicating whether or not it is a leap year."
      ]
    },
    {
      "cell_type": "code",
      "metadata": {
        "id": "m8Gk6j95fDnw",
        "colab_type": "code",
        "colab": {
          "base_uri": "https://localhost:8080/",
          "height": 50
        },
        "outputId": "af939527-61cd-4856-bcb6-9fa34eb6d326"
      },
      "source": [
        "yr=int(input(\"enter a year : \"))\n",
        "if(yr%4==0 and yr%100!=0 or yr%400==0):\n",
        "  print(\"Yes,it is a leap year\")\n",
        "else:\n",
        "  print(\"it is not a leap year\")"
      ],
      "execution_count": 4,
      "outputs": [
        {
          "output_type": "stream",
          "text": [
            "enter a year : 2007\n",
            "it is not a leap year\n"
          ],
          "name": "stdout"
        }
      ]
    }
  ]
}