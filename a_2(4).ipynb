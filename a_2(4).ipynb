{
  "nbformat": 4,
  "nbformat_minor": 0,
  "metadata": {
    "colab": {
      "name": "a-2(4)",
      "provenance": [],
      "authorship_tag": "ABX9TyMLinRY4nOz9mC5j9hyanNL",
      "include_colab_link": true
    },
    "kernelspec": {
      "name": "python3",
      "display_name": "Python 3"
    }
  },
  "cells": [
    {
      "cell_type": "markdown",
      "metadata": {
        "id": "view-in-github",
        "colab_type": "text"
      },
      "source": [
        "<a href=\"https://colab.research.google.com/github/rishika-p/assignment-2/blob/master/a_2(4).ipynb\" target=\"_parent\"><img src=\"https://colab.research.google.com/assets/colab-badge.svg\" alt=\"Open In Colab\"/></a>"
      ]
    },
    {
      "cell_type": "code",
      "metadata": {
        "id": "RkIrRo_igUWC",
        "colab_type": "code",
        "colab": {}
      },
      "source": [
        ""
      ],
      "execution_count": null,
      "outputs": []
    },
    {
      "cell_type": "markdown",
      "metadata": {
        "id": "J6E3oCqdgiB2",
        "colab_type": "text"
      },
      "source": [
        "4.   Space To Hyphen problem Take a string as input, and replaces spaces “ “  with hyphens “-”, and returns a string.\n",
        "Input: “ This program converts spaces into hyphen”\n",
        "     Output:     “ This-program-converts-spaces-into-hyphen”"
      ]
    },
    {
      "cell_type": "code",
      "metadata": {
        "id": "ICdMFJfsgjRS",
        "colab_type": "code",
        "colab": {
          "base_uri": "https://localhost:8080/",
          "height": 50
        },
        "outputId": "ddb6944d-72a2-4147-e780-7b46e1fafca4"
      },
      "source": [
        "s=input(\"Enter a string : \")\n",
        "s=s.replace(' ','-')\n",
        "print(\"Modified string = \",s)"
      ],
      "execution_count": 6,
      "outputs": [
        {
          "output_type": "stream",
          "text": [
            "Enter a string : \"This program converts spaces into hyphen\"\n",
            "Modified string =  \"This-program-converts-spaces-into-hyphen\"\n"
          ],
          "name": "stdout"
        }
      ]
    }
  ]
}