{
  "nbformat": 4,
  "nbformat_minor": 0,
  "metadata": {
    "colab": {
      "name": "a-2(13)",
      "provenance": [],
      "authorship_tag": "ABX9TyMtCJN1x/xkaG96cIGO4m6J",
      "include_colab_link": true
    },
    "kernelspec": {
      "name": "python3",
      "display_name": "Python 3"
    }
  },
  "cells": [
    {
      "cell_type": "markdown",
      "metadata": {
        "id": "view-in-github",
        "colab_type": "text"
      },
      "source": [
        "<a href=\"https://colab.research.google.com/github/rishika-p/assignment-2/blob/master/a_2(13).ipynb\" target=\"_parent\"><img src=\"https://colab.research.google.com/assets/colab-badge.svg\" alt=\"Open In Colab\"/></a>"
      ]
    },
    {
      "cell_type": "markdown",
      "metadata": {
        "id": "igNCoOUz-kGF",
        "colab_type": "text"
      },
      "source": [
        "13.Compute given Num_tuple = (5, 6,8 ,3,9,1) to get desired outputOutput: Out_list = [5, 30, 240, 720, 6480, 6480]"
      ]
    },
    {
      "cell_type": "code",
      "metadata": {
        "id": "W6mL5f9x-kXU",
        "colab_type": "code",
        "colab": {
          "base_uri": "https://localhost:8080/",
          "height": 34
        },
        "outputId": "219381b4-2416-4a9c-e94c-7a204c381c23"
      },
      "source": [
        "Num_tuple=(5,6,8,3,9,1)\n",
        "Out_list = []\n",
        "Out_list.append(Num_tuple[0])\n",
        "for i in range(len(Num_tuple)-1):\n",
        "  a = (Out_list[i]*Num_tuple[i+1])\n",
        "  Out_list.append(a)\n",
        "print(\"Out_list=\",Out_list)"
      ],
      "execution_count": 1,
      "outputs": [
        {
          "output_type": "stream",
          "text": [
            "Out_list= [5, 30, 240, 720, 6480, 6480]\n"
          ],
          "name": "stdout"
        }
      ]
    }
  ]
}